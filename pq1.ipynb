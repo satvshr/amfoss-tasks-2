{
 "cells": [
  {
   "attachments": {},
   "cell_type": "markdown",
   "metadata": {},
   "source": [
    "1.\n",
    "operators: *, -, /, +\n",
    "values: 'hello', -88.8, 5"
   ]
  },
  {
   "attachments": {},
   "cell_type": "markdown",
   "metadata": {},
   "source": [
    "2. \n",
    "spam- variable\n",
    "'spam'- string"
   ]
  },
  {
   "attachments": {},
   "cell_type": "markdown",
   "metadata": {},
   "source": [
    "3.\n",
    "Three data types are:\n",
    "1. Integer(1, 2, 3)\n",
    "2. float (1.0, 2.1)\n",
    "4. String ('a', 'str')\n"
   ]
  },
  {
   "attachments": {},
   "cell_type": "markdown",
   "metadata": {},
   "source": [
    "4.\n",
    "Expression consist of values and operators.\n",
    "Expressions consist of a bunch of values and operators that can always be evaluated down to a single value.\n"
   ]
  },
  {
   "attachments": {},
   "cell_type": "markdown",
   "metadata": {},
   "source": [
    "5.\n",
    "Expression:                         \n",
    "1. Evaluated for some result        \n",
    "2. always prints a result           \n",
    "3. It is of datatype void\n",
    "Statement:\n",
    "1. Not evaluated for some result\n",
    "2. Not necesserily that it needs to print a result\n",
    "3. Has a data type\n"
   ]
  },
  {
   "attachments": {},
   "cell_type": "markdown",
   "metadata": {},
   "source": [
    "6.\n",
    "bacon is equal to 21"
   ]
  },
  {
   "attachments": {},
   "cell_type": "markdown",
   "metadata": {},
   "source": [
    "7.\n",
    "'spam' + 'spamspam' and 'spam' * 3 will have the same result:\n",
    "'spamspamspam'"
   ]
  },
  {
   "attachments": {},
   "cell_type": "markdown",
   "metadata": {},
   "source": [
    "8.\n",
    "spam satisfies all the three rules to declare a variable hence is a variable, whereas 100 starts with a number hence cannot be a variable\n"
   ]
  },
  {
   "attachments": {},
   "cell_type": "markdown",
   "metadata": {},
   "source": [
    "9. \n",
    "int(), float(), str() can be used to get the integer, floating-point number, or string version of a value"
   ]
  },
  {
   "attachments": {},
   "cell_type": "markdown",
   "metadata": {},
   "source": [
    "10.\n",
    "it causes an error since an int and string cant be concatenated\n",
    "to fix it we should do: \n",
    "'I have eaten ' + str(99) + ' burritos.'"
   ]
  }
 ],
 "metadata": {
  "kernelspec": {
   "display_name": "Python 3",
   "language": "python",
   "name": "python3"
  },
  "language_info": {
   "codemirror_mode": {
    "name": "ipython",
    "version": 3
   },
   "file_extension": ".py",
   "mimetype": "text/x-python",
   "name": "python",
   "nbconvert_exporter": "python",
   "pygments_lexer": "ipython3",
   "version": "3.10.6 (main, Nov 14 2022, 16:10:14) [GCC 11.3.0]"
  },
  "orig_nbformat": 4,
  "vscode": {
   "interpreter": {
    "hash": "916dbcbb3f70747c44a77c7bcd40155683ae19c65e1c03b4aa3499c5328201f1"
   }
  }
 },
 "nbformat": 4,
 "nbformat_minor": 2
}
